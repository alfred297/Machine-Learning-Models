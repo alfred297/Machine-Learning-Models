{
 "cells": [
  {
   "cell_type": "code",
   "execution_count": 21,
   "metadata": {},
   "outputs": [],
   "source": [
    "import numpy as np\n",
    "import pandas as pd\n",
    "from sklearn.model_selection import train_test_split\n",
    "import matplotlib.pyplot as plt\n",
    "from sklearn import preprocessing\n",
    "from sklearn.neighbors import KNeighborsClassifier"
   ]
  },
  {
   "cell_type": "code",
   "execution_count": 9,
   "metadata": {},
   "outputs": [],
   "source": [
    "data = pd.read_csv(\"car.data\")"
   ]
  },
  {
   "cell_type": "code",
   "execution_count": 3,
   "metadata": {},
   "outputs": [
    {
     "name": "stdout",
     "output_type": "stream",
     "text": [
      "  buying  maint door persons lug_boot safety  class\n",
      "0  vhigh  vhigh    2       2    small    low  unacc\n",
      "1  vhigh  vhigh    2       2    small    med  unacc\n",
      "2  vhigh  vhigh    2       2    small   high  unacc\n",
      "3  vhigh  vhigh    2       2      med    low  unacc\n",
      "4  vhigh  vhigh    2       2      med    med  unacc\n"
     ]
    }
   ],
   "source": [
    "print(data.head())"
   ]
  },
  {
   "cell_type": "code",
   "execution_count": 10,
   "metadata": {},
   "outputs": [],
   "source": [
    "#change labels into numerical data for our model\n",
    "endoder = preprocessing.LabelEncoder()"
   ]
  },
  {
   "cell_type": "code",
   "execution_count": 16,
   "metadata": {
    "scrolled": true
   },
   "outputs": [],
   "source": [
    "buying = endoder.fit_transform(list(data[\"buying\"]))\n",
    "maint = endoder.fit_transform(list(data[\"maint\"]))\n",
    "door = endoder.fit_transform(list(data[\"door\"]))\n",
    "persons = endoder.fit_transform(list(data[\"persons\"]))\n",
    "lug_boot = endoder.fit_transform(list(data[\"lug_boot\"]))\n",
    "safety = endoder.fit_transform(list(data[\"safety\"]))\n",
    "clas = endoder.fit_transform(list(data[\"class\"]))"
   ]
  },
  {
   "cell_type": "code",
   "execution_count": 19,
   "metadata": {},
   "outputs": [],
   "source": [
    "X = list(zip(buying,maint,door,persons,lug_boot,safety)) #\n",
    "y = list(clas)"
   ]
  },
  {
   "cell_type": "code",
   "execution_count": 20,
   "metadata": {},
   "outputs": [],
   "source": [
    "X_train, X_test, y_train, y_test = train_test_split(X,y, test_size=.1)"
   ]
  },
  {
   "cell_type": "code",
   "execution_count": 30,
   "metadata": {},
   "outputs": [
    {
     "name": "stdout",
     "output_type": "stream",
     "text": [
      "1 0.7630057803468208\n",
      "2 0.7225433526011561\n",
      "3 0.8208092485549133\n",
      "4 0.8265895953757225\n",
      "5 0.8670520231213873\n",
      "6 0.8901734104046243\n",
      "7 0.9364161849710982\n",
      "8 0.9248554913294798\n",
      "9 0.9190751445086706\n",
      "10 0.8959537572254336\n",
      "11 0.884393063583815\n"
     ]
    }
   ],
   "source": [
    "for n in range(11): \n",
    "    model = KNeighborsClassifier(n_neighbors = n+1)\n",
    "    model.fit(X_train,y_train)\n",
    "    print(n+1,model.score(X_test,y_test))"
   ]
  },
  {
   "cell_type": "code",
   "execution_count": null,
   "metadata": {},
   "outputs": [],
   "source": [
    "#max accuracy around 7 nearest neighbours"
   ]
  }
 ],
 "metadata": {
  "kernelspec": {
   "display_name": "Python 3",
   "language": "python",
   "name": "python3"
  },
  "language_info": {
   "codemirror_mode": {
    "name": "ipython",
    "version": 3
   },
   "file_extension": ".py",
   "mimetype": "text/x-python",
   "name": "python",
   "nbconvert_exporter": "python",
   "pygments_lexer": "ipython3",
   "version": "3.7.1"
  }
 },
 "nbformat": 4,
 "nbformat_minor": 2
}
